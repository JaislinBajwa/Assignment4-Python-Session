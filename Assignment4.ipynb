{
 "cells": [
  {
   "cell_type": "markdown",
   "id": "b4d5f801",
   "metadata": {},
   "source": [
    "# ASSIGNMENT-4 PROGRAMMING SESSION(PYTHON)"
   ]
  },
  {
   "cell_type": "markdown",
   "id": "fbcbce5d",
   "metadata": {},
   "source": [
    "# Q1:Write a program using recursive function."
   ]
  },
  {
   "cell_type": "code",
   "execution_count": 8,
   "id": "9a8cc843",
   "metadata": {},
   "outputs": [
    {
     "name": "stdout",
     "output_type": "stream",
     "text": [
      "Enter the number:7\n",
      "The factorial of 7 is 5040\n"
     ]
    }
   ],
   "source": [
    "num=int(input(\"Enter the number:\"))\n",
    "def factorial(x):\n",
    "    if x == 1:\n",
    "        return 1\n",
    "    else:\n",
    "        return (x * factorial(x-1))\n",
    "print(\"The factorial of\", num, \"is\", factorial(num))\n"
   ]
  },
  {
   "cell_type": "code",
   "execution_count": 9,
   "id": "d94f3899",
   "metadata": {},
   "outputs": [
    {
     "name": "stdout",
     "output_type": "stream",
     "text": [
      "Answer is: 15\n"
     ]
    }
   ],
   "source": [
    "def add_numbers(n):\n",
    "    return lambda x: x + n\n",
    "\n",
    "add_five = add_numbers(5)\n",
    "result = add_five(10)\n",
    "print('Answer is:',result) "
   ]
  },
  {
   "cell_type": "markdown",
   "id": "55795370",
   "metadata": {},
   "source": [
    "# Q3:Make file and  use read, write, open, with open and append functions"
   ]
  },
  {
   "cell_type": "code",
   "execution_count": 10,
   "id": "70755df0",
   "metadata": {},
   "outputs": [
    {
     "name": "stdout",
     "output_type": "stream",
     "text": [
      "Hello, world!\n",
      "This is an example file.\n",
      "\n",
      "Hello, world!\n",
      "This is an example file.\n",
      "This is some additional text.\n",
      "\n"
     ]
    }
   ],
   "source": [
    "# Creating a new file and writing the text to it\n",
    "with open(\"example.txt\", \"w\") as f:\n",
    "    f.write(\"Hello, world!\\n\")\n",
    "    f.write(\"This is an example file.\\n\")\n",
    "    \n",
    "# Open the file and read its contents\n",
    "with open(\"example.txt\", \"r\") as f:\n",
    "    contents = f.read()\n",
    "    print(contents)\n",
    "    \n",
    "# Open the file in append mode and add more text to it\n",
    "with open(\"example.txt\", \"a\") as f:\n",
    "    f.write(\"This is some additional text.\\n\")\n",
    "    \n",
    "# Open the file and read its contents again to see the changes\n",
    "with open(\"example.txt\", \"r\") as f:\n",
    "    contents = f.read()\n",
    "    print(contents)\n"
   ]
  },
  {
   "cell_type": "code",
   "execution_count": null,
   "id": "c078470c",
   "metadata": {},
   "outputs": [],
   "source": []
  },
  {
   "cell_type": "code",
   "execution_count": null,
   "id": "82d0f809",
   "metadata": {},
   "outputs": [],
   "source": []
  }
 ],
 "metadata": {
  "kernelspec": {
   "display_name": "Python 3 (ipykernel)",
   "language": "python",
   "name": "python3"
  },
  "language_info": {
   "codemirror_mode": {
    "name": "ipython",
    "version": 3
   },
   "file_extension": ".py",
   "mimetype": "text/x-python",
   "name": "python",
   "nbconvert_exporter": "python",
   "pygments_lexer": "ipython3",
   "version": "3.9.7"
  }
 },
 "nbformat": 4,
 "nbformat_minor": 5
}
